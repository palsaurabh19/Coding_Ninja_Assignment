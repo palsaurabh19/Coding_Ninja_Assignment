{
 "cells": [
  {
   "cell_type": "code",
   "execution_count": null,
   "metadata": {},
   "outputs": [],
   "source": [
    "while True:\n",
    "    choice = int(input())\n",
    "    if (choice>=1 and choice<=5):\n",
    "        num1 = int(input())\n",
    "        num2 = int(input())\n",
    "        if choice == 1: \n",
    "            res = num1 + num2\n",
    "            print(res)\n",
    "        elif choice == 2: \n",
    "            res = num1 - num2\n",
    "            print(res)\n",
    "        elif choice == 3: \n",
    "            res = num1 * num2\n",
    "            print(res)\n",
    "        elif choice == 4: \n",
    "            res = num1 // num2\n",
    "            print(res)\n",
    "        elif choice == 5:\n",
    "            res = num1 % num2\n",
    "            print(res)\n",
    "    elif choice == 6:\n",
    "        exit()\n",
    "    else:\n",
    "        print(\"Invalid Operation\")  "
   ]
  },
  {
   "cell_type": "code",
   "execution_count": null,
   "metadata": {},
   "outputs": [],
   "source": []
  }
 ],
 "metadata": {
  "kernelspec": {
   "display_name": "Python 3 (ipykernel)",
   "language": "python",
   "name": "python3"
  },
  "language_info": {
   "codemirror_mode": {
    "name": "ipython",
    "version": 3
   },
   "file_extension": ".py",
   "mimetype": "text/x-python",
   "name": "python",
   "nbconvert_exporter": "python",
   "pygments_lexer": "ipython3",
   "version": "3.8.10"
  }
 },
 "nbformat": 4,
 "nbformat_minor": 4
}
