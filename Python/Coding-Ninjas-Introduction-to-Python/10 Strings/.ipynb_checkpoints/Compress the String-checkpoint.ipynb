{
 "cells": [
  {
   "cell_type": "code",
   "execution_count": 1,
   "metadata": {},
   "outputs": [
    {
     "name": "stdout",
     "output_type": "stream",
     "text": [
      "aaabbccdsa\n",
      "a3b2c2dsa\n"
     ]
    }
   ],
   "source": [
    "def getCompressedString(string):\n",
    "    n = len(string)\n",
    "    ans = ''\n",
    "    cur = 1\n",
    "    ans +=string[0]\n",
    "    \n",
    "    for i in range(1,n):\n",
    "        if string[i] == string[i-1]:\n",
    "            cur +=1\n",
    "        else:\n",
    "            if cur > 1:\n",
    "                ans += str(cur)\n",
    "                cur = 1\n",
    "            ans +=string[i]\n",
    "    if cur > 1:\n",
    "        ans += str(cur)\n",
    "    return(ans)"
   ]
  }
 ],
 "metadata": {
  "kernelspec": {
   "display_name": "Python 3 (ipykernel)",
   "language": "python",
   "name": "python3"
  },
  "language_info": {
   "codemirror_mode": {
    "name": "ipython",
    "version": 3
   },
   "file_extension": ".py",
   "mimetype": "text/x-python",
   "name": "python",
   "nbconvert_exporter": "python",
   "pygments_lexer": "ipython3",
   "version": "3.8.10"
  }
 },
 "nbformat": 4,
 "nbformat_minor": 4
}
