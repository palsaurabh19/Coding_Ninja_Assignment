{
 "cells": [
  {
   "cell_type": "code",
   "execution_count": 1,
   "metadata": {},
   "outputs": [
    {
     "name": "stdout",
     "output_type": "stream",
     "text": [
      "abdefgbabfba\n",
      "b\n"
     ]
    }
   ],
   "source": [
    "def highestOccuringChar(string):\n",
    "    maxFrequency = 0\n",
    "    arr = [0]*256\n",
    "    ans = ''\n",
    "    for i in range(len(string)):\n",
    "        arr[ord(string[i])] += 1\n",
    "        # To find which number is the highest in the array\n",
    "        maxFrequency = max(maxFrequency, arr[ord(string[i])])\n",
    "    \n",
    "    # To map which which char has the highest frequency\n",
    "    for i in range(len(string)):\n",
    "        if arr[ord(string[i])] == maxFrequency:\n",
    "            ans = string[i]\n",
    "            break\n",
    "    return ans"
   ]
  }
 ],
 "metadata": {
  "kernelspec": {
   "display_name": "Python 3 (ipykernel)",
   "language": "python",
   "name": "python3"
  },
  "language_info": {
   "codemirror_mode": {
    "name": "ipython",
    "version": 3
   },
   "file_extension": ".py",
   "mimetype": "text/x-python",
   "name": "python",
   "nbconvert_exporter": "python",
   "pygments_lexer": "ipython3",
   "version": "3.8.10"
  }
 },
 "nbformat": 4,
 "nbformat_minor": 4
}
