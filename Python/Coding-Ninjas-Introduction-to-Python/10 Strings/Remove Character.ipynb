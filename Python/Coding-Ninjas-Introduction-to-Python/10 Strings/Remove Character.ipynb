{
 "cells": [
  {
   "cell_type": "code",
   "execution_count": 1,
   "metadata": {},
   "outputs": [
    {
     "name": "stdout",
     "output_type": "stream",
     "text": [
      "wellcome to codingninjas\n",
      "o\n",
      "wellcme t cdingninjas\n"
     ]
    }
   ],
   "source": [
    "def removeAllOccurrencesOfChar(string, ch) :\n",
    "    new_string = \"\"\n",
    "    for i in string:\n",
    "        if i != ch:\n",
    "            new_string +=i\n",
    "    return new_string  \n"
   ]
  }
 ],
 "metadata": {
  "kernelspec": {
   "display_name": "Python 3 (ipykernel)",
   "language": "python",
   "name": "python3"
  },
  "language_info": {
   "codemirror_mode": {
    "name": "ipython",
    "version": 3
   },
   "file_extension": ".py",
   "mimetype": "text/x-python",
   "name": "python",
   "nbconvert_exporter": "python",
   "pygments_lexer": "ipython3",
   "version": "3.8.10"
  }
 },
 "nbformat": 4,
 "nbformat_minor": 4
}
