{
 "cells": [
  {
   "cell_type": "code",
   "execution_count": 1,
   "metadata": {},
   "outputs": [
    {
     "name": "stdout",
     "output_type": "stream",
     "text": [
      "5\n",
      "1 2 3 4 5 \n",
      "11 12 13 14 15 \n",
      "21 22 23 24 25 \n",
      "16 17 18 19 20 \n",
      "6 7 8 9 10 \n"
     ]
    }
   ],
   "source": [
    "n=int(input())\n",
    "startvalue=1\n",
    "for i in range(1,n+1):\n",
    "    for j in range(startvalue,startvalue+n):\n",
    "        print(j,end=\" \")\n",
    "    print()\n",
    "    if i==(n+1)//2:\n",
    "        if n%2!=0:\n",
    "            startvalue=n*(n-2)+1\n",
    "        else:\n",
    "            startvalue=n*(n-1)+1\n",
    "    elif i>(n+1)//2:\n",
    "        startvalue=startvalue-2*n\n",
    "    else:\n",
    "        startvalue=startvalue+2*n"
   ]
  },
  {
   "cell_type": "code",
   "execution_count": null,
   "metadata": {},
   "outputs": [],
   "source": []
  }
 ],
 "metadata": {
  "kernelspec": {
   "display_name": "Python 3 (ipykernel)",
   "language": "python",
   "name": "python3"
  },
  "language_info": {
   "codemirror_mode": {
    "name": "ipython",
    "version": 3
   },
   "file_extension": ".py",
   "mimetype": "text/x-python",
   "name": "python",
   "nbconvert_exporter": "python",
   "pygments_lexer": "ipython3",
   "version": "3.8.10"
  }
 },
 "nbformat": 4,
 "nbformat_minor": 4
}
