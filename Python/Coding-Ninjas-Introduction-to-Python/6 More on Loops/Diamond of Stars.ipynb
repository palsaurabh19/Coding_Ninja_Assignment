{
 "cells": [
  {
   "cell_type": "code",
   "execution_count": 2,
   "metadata": {},
   "outputs": [
    {
     "name": "stdout",
     "output_type": "stream",
     "text": [
      "5\n",
      "  *\n",
      " ***\n",
      "*****\n",
      " ***\n",
      "  *\n"
     ]
    }
   ],
   "source": [
    "# Read input as specified in the question.\n",
    "## Print output as specified in the question.\n",
    "n = int(input())\n",
    "for i in range(1,n//2+2):\n",
    "    for space in range(1,n//2-i+2):\n",
    "        print(\" \", end = \"\")   \n",
    "    for inc_star in range(1,i+1):\n",
    "        print(\"*\",end = \"\")\n",
    "    for dec_star in range(1,i):\n",
    "        print(\"*\",end = \"\")\n",
    "    print()\n",
    "count = 1  \n",
    "sum1 = 1\n",
    "for j in range(n//2+1,n):\n",
    "    \n",
    "    for space1 in range(1,sum1+1):\n",
    "        print(\" \",end = \"\")\n",
    "    for inc2_star in range(n//2+1-sum1):\n",
    "        print(\"*\",end = \"\")\n",
    "    for dec2_star in range(n//2+1-sum1-1):\n",
    "        print(\"*\",end = \"\")\n",
    "        \n",
    "    sum1 = sum1 +1   \n",
    "    print()  "
   ]
  },
  {
   "cell_type": "code",
   "execution_count": null,
   "metadata": {},
   "outputs": [],
   "source": []
  }
 ],
 "metadata": {
  "kernelspec": {
   "display_name": "Python 3 (ipykernel)",
   "language": "python",
   "name": "python3"
  },
  "language_info": {
   "codemirror_mode": {
    "name": "ipython",
    "version": 3
   },
   "file_extension": ".py",
   "mimetype": "text/x-python",
   "name": "python",
   "nbconvert_exporter": "python",
   "pygments_lexer": "ipython3",
   "version": "3.8.10"
  }
 },
 "nbformat": 4,
 "nbformat_minor": 4
}
