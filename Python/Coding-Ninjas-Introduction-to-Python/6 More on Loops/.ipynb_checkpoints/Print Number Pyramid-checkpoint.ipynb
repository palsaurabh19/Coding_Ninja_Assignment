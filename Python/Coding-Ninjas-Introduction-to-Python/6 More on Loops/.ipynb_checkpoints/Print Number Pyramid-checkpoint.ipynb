{
 "cells": [
  {
   "cell_type": "code",
   "execution_count": 1,
   "metadata": {},
   "outputs": [
    {
     "name": "stdout",
     "output_type": "stream",
     "text": [
      "5\n",
      "12345\n",
      " 2345\n",
      "  345\n",
      "   45\n",
      "    5\n",
      "   45\n",
      "  345\n",
      " 2345\n",
      "12345\n"
     ]
    }
   ],
   "source": [
    "## Read input as specified in the question.\n",
    "## Print output as specified in the question.\n",
    "n = int(input())\n",
    "for i in range (1,n+1):\n",
    "    for space in range(1,i):\n",
    "        print(\" \",end = \"\")\n",
    "    k = i   \n",
    "    for j in range(1,n-i+2) :\n",
    "        print(k,end = \"\")\n",
    "        k = k+1\n",
    "    print()    \n",
    "for m in range(n,2*n-1) :\n",
    "    for space1 in range(1,2*n-m-1):\n",
    "        print(\" \",end = \"\")  \n",
    "    for num in range(2*n-m-1 ,n+1, 1):\n",
    "        print(num,end = \"\")\n",
    "    print()\n",
    "    "
   ]
  },
  {
   "cell_type": "code",
   "execution_count": null,
   "metadata": {},
   "outputs": [],
   "source": []
  }
 ],
 "metadata": {
  "kernelspec": {
   "display_name": "Python 3 (ipykernel)",
   "language": "python",
   "name": "python3"
  },
  "language_info": {
   "codemirror_mode": {
    "name": "ipython",
    "version": 3
   },
   "file_extension": ".py",
   "mimetype": "text/x-python",
   "name": "python",
   "nbconvert_exporter": "python",
   "pygments_lexer": "ipython3",
   "version": "3.8.10"
  }
 },
 "nbformat": 4,
 "nbformat_minor": 4
}
