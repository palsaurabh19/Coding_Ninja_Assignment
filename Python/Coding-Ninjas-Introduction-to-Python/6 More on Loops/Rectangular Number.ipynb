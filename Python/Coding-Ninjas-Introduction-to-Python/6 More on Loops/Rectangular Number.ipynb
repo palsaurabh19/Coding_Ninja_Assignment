{
 "cells": [
  {
   "cell_type": "code",
   "execution_count": 1,
   "metadata": {},
   "outputs": [
    {
     "name": "stdout",
     "output_type": "stream",
     "text": [
      "5\n",
      "555555555\n",
      "544444445\n",
      "543333345\n",
      "543222345\n",
      "543212345\n",
      "543222345\n",
      "543333345\n",
      "544444445\n",
      "555555555\n"
     ]
    }
   ],
   "source": [
    "## Read input as specified in the question.\n",
    "## Print output as specified in the question.\n",
    "n = int(input())\n",
    "count = n\n",
    "for i in range(1,n+1):\n",
    "    for j in range(1,i+1):\n",
    "        print(n-j+1,end = \"\")\n",
    "    for k in range(1,n+1-i):\n",
    "        print(n-j+1,end = \"\")\n",
    "    for m in range(n+1+i-1,2*n-1):\n",
    "        print(n-j+1,end = \"\")\n",
    "    for o in range(1,i+1):\n",
    "        if (n-i+o) == 1:\n",
    "            continue\n",
    "        print(n-i+o,end = \"\")\n",
    "    print() \n",
    "sum1 = 1   \n",
    "for b in range(n+1,2*n):  \n",
    "    for g in range(1,n-sum1+1):\n",
    "        print(n-g+1, end = \"\")\n",
    "    for h in range(1,sum1+1):\n",
    "        print(sum1+1,end = \"\")\n",
    "    for x in range(1,sum1):\n",
    "        print(sum1+1,end = \"\")\n",
    "    for y in range(1,n-sum1+1):\n",
    "        print(sum1+y,end = \"\")\n",
    "        \n",
    "    \n",
    "    sum1 = sum1 +1  \n",
    "    print()    \n",
    "    \n"
   ]
  },
  {
   "cell_type": "code",
   "execution_count": null,
   "metadata": {},
   "outputs": [],
   "source": []
  }
 ],
 "metadata": {
  "kernelspec": {
   "display_name": "Python 3 (ipykernel)",
   "language": "python",
   "name": "python3"
  },
  "language_info": {
   "codemirror_mode": {
    "name": "ipython",
    "version": 3
   },
   "file_extension": ".py",
   "mimetype": "text/x-python",
   "name": "python",
   "nbconvert_exporter": "python",
   "pygments_lexer": "ipython3",
   "version": "3.8.10"
  }
 },
 "nbformat": 4,
 "nbformat_minor": 4
}
