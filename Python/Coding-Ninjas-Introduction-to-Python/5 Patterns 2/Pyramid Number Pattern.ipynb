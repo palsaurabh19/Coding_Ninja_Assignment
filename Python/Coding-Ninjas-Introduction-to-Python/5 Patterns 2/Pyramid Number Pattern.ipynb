{
 "cells": [
  {
   "cell_type": "code",
   "execution_count": 1,
   "metadata": {},
   "outputs": [
    {
     "name": "stdout",
     "output_type": "stream",
     "text": [
      "5\n",
      "    1\n",
      "   212\n",
      "  32123\n",
      " 4321234\n",
      "543212345\n"
     ]
    }
   ],
   "source": [
    "## Read input as specified in the question.\n",
    "## Print output as specified in the question.\n",
    "n = int(input())\n",
    "i = 1\n",
    "while i <=n:\n",
    "    space = 1\n",
    "    while space <= n-i:\n",
    "        print(\" \",end = \"\")\n",
    "        space = space +1\n",
    "    j = 1\n",
    "    while j <= i:\n",
    "        print(i-j+1,end = \"\")\n",
    "        j = j+1\n",
    "    p = 1\n",
    "    while p < i:\n",
    "        print(p+1,end=\"\")\n",
    "        p = p+1\n",
    "    print() \n",
    "    i = i +1      \n"
   ]
  },
  {
   "cell_type": "code",
   "execution_count": null,
   "metadata": {},
   "outputs": [],
   "source": []
  }
 ],
 "metadata": {
  "kernelspec": {
   "display_name": "Python 3 (ipykernel)",
   "language": "python",
   "name": "python3"
  },
  "language_info": {
   "codemirror_mode": {
    "name": "ipython",
    "version": 3
   },
   "file_extension": ".py",
   "mimetype": "text/x-python",
   "name": "python",
   "nbconvert_exporter": "python",
   "pygments_lexer": "ipython3",
   "version": "3.8.10"
  }
 },
 "nbformat": 4,
 "nbformat_minor": 4
}
