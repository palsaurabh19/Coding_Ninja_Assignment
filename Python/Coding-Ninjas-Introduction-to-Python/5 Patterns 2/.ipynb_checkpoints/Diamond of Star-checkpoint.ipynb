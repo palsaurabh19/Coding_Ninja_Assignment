{
 "cells": [
  {
   "cell_type": "code",
   "execution_count": 1,
   "metadata": {},
   "outputs": [
    {
     "name": "stdout",
     "output_type": "stream",
     "text": [
      "5\n",
      "  *\n",
      " ***\n",
      "*****\n",
      " ***\n",
      "  *\n"
     ]
    }
   ],
   "source": [
    "## Read input as specified in the question.\n",
    "## Print output as specified in the question.\n",
    "n=int(input())\n",
    "i = 1\n",
    "while i<=(n//2)+1:\n",
    "    space = 1\n",
    "    while space <= (n//2)+1-i:\n",
    "        print(\" \", end = \"\")\n",
    "        space = space + 1\n",
    "    star = 1    \n",
    "    while star<=i:\n",
    "        print(\"*\", end = \"\")\n",
    "        star = star + 1\n",
    "    p = i-1\n",
    "    while p >=1:\n",
    "        print(\"*\",end = \"\")\n",
    "        p = p-1\n",
    "    print()    \n",
    "    i = i+1\n",
    "k = n   \n",
    "while k>(n//2)+1:\n",
    "    space1 = 1\n",
    "    while space1<=n-k+1:\n",
    "        print(\" \",end = \"\")\n",
    "        space1 = space1+1\n",
    "    star1 = 1\n",
    "    while star1<=k-n//2-1:\n",
    "        print(\"*\",end = \"\")\n",
    "        star1 = star1+1\n",
    "    p1 = 1\n",
    "    while p1<=k-(n//2)-2:\n",
    "        print(\"*\",end = \"\")\n",
    "        p1 = p1+1\n",
    "    print()    \n",
    "    k = k-1"
   ]
  },
  {
   "cell_type": "code",
   "execution_count": null,
   "metadata": {},
   "outputs": [],
   "source": []
  }
 ],
 "metadata": {
  "kernelspec": {
   "display_name": "Python 3 (ipykernel)",
   "language": "python",
   "name": "python3"
  },
  "language_info": {
   "codemirror_mode": {
    "name": "ipython",
    "version": 3
   },
   "file_extension": ".py",
   "mimetype": "text/x-python",
   "name": "python",
   "nbconvert_exporter": "python",
   "pygments_lexer": "ipython3",
   "version": "3.8.10"
  }
 },
 "nbformat": 4,
 "nbformat_minor": 4
}
