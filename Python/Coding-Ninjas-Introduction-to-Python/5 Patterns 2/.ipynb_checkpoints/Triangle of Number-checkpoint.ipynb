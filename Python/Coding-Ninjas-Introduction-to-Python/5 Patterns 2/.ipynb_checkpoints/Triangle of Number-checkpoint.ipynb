{
 "cells": [
  {
   "cell_type": "code",
   "execution_count": 1,
   "metadata": {},
   "outputs": [
    {
     "name": "stdout",
     "output_type": "stream",
     "text": [
      "5\n",
      "    1\n",
      "   232\n",
      "  34543\n",
      " 4567654\n",
      "567898765\n"
     ]
    }
   ],
   "source": [
    "## Read input as specified in the question.\n",
    "## Print output as specified in the question.\n",
    "n=int(input())\n",
    "i = 1\n",
    "while i<=n:\n",
    "    space = 1\n",
    "    while space <= n-i:\n",
    "        print(\" \", end = \"\")\n",
    "        space = space + 1\n",
    "    star = 1    \n",
    "    while star<=i:\n",
    "        print(i+star-1, end = \"\")\n",
    "        star = star + 1\n",
    "    p = i-1\n",
    "    while p >=1:\n",
    "        print(i+p-1,end = \"\")\n",
    "        p = p-1\n",
    "    print()    \n",
    "    i = i+1\n"
   ]
  },
  {
   "cell_type": "code",
   "execution_count": null,
   "metadata": {},
   "outputs": [],
   "source": []
  }
 ],
 "metadata": {
  "kernelspec": {
   "display_name": "Python 3 (ipykernel)",
   "language": "python",
   "name": "python3"
  },
  "language_info": {
   "codemirror_mode": {
    "name": "ipython",
    "version": 3
   },
   "file_extension": ".py",
   "mimetype": "text/x-python",
   "name": "python",
   "nbconvert_exporter": "python",
   "pygments_lexer": "ipython3",
   "version": "3.8.10"
  }
 },
 "nbformat": 4,
 "nbformat_minor": 4
}
