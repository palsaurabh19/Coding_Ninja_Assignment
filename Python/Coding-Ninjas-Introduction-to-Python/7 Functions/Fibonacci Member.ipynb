{
 "cells": [
  {
   "cell_type": "code",
   "execution_count": 1,
   "metadata": {},
   "outputs": [
    {
     "name": "stdout",
     "output_type": "stream",
     "text": [
      "5\n",
      "true\n"
     ]
    }
   ],
   "source": [
    "list1 = []\n",
    "list1.append(0)\n",
    "list1.append(1)\n",
    "list1.append(1)\n",
    "a = 1\n",
    "b = 1\n",
    "def generate_fib(n=10000):\n",
    "    a = 1\n",
    "    b = 1\n",
    "    for i in range(2,n+1):\n",
    "        c = a + b\n",
    "        list1.append(int(c))\n",
    "        a = b\n",
    "        b = c        \n",
    "    return (list1)    \n",
    "        \n",
    "\n",
    "def checkMember(n):\n",
    "    list2 = generate_fib(n)\n",
    "    for i in list2:\n",
    "        if i == n:\n",
    "            return True\n",
    "    else:\n",
    "        return False\n",
    "n=int(input())\n",
    "if(checkMember(n)):\n",
    "    print(\"true\")\n",
    "else:\n",
    "    print(\"false\")"
   ]
  },
  {
   "cell_type": "code",
   "execution_count": null,
   "metadata": {},
   "outputs": [],
   "source": []
  }
 ],
 "metadata": {
  "kernelspec": {
   "display_name": "Python 3 (ipykernel)",
   "language": "python",
   "name": "python3"
  },
  "language_info": {
   "codemirror_mode": {
    "name": "ipython",
    "version": 3
   },
   "file_extension": ".py",
   "mimetype": "text/x-python",
   "name": "python",
   "nbconvert_exporter": "python",
   "pygments_lexer": "ipython3",
   "version": "3.8.10"
  }
 },
 "nbformat": 4,
 "nbformat_minor": 4
}
